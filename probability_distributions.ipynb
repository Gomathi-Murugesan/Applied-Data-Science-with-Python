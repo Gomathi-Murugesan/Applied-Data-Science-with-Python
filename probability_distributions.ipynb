{
 "cells": [
  {
   "cell_type": "markdown",
   "id": "f976a072",
   "metadata": {},
   "source": [
    "# Probability and Distributions"
   ]
  },
  {
   "cell_type": "markdown",
   "id": "304d1632",
   "metadata": {},
   "source": [
    "https://www.analyticsvidhya.com/blog/2022/04/introduction-to-probability-distributions-for-data-science/"
   ]
  },
  {
   "cell_type": "markdown",
   "id": "e34b8af0",
   "metadata": {},
   "source": [
    "## Bernoulli Distribution"
   ]
  },
  {
   "cell_type": "code",
   "execution_count": null,
   "id": "dbef65ae",
   "metadata": {},
   "outputs": [],
   "source": [
    "import seaborn as sns\n",
    "import matplotlib.pyplot as plt\n",
    "sns.set_palette('Accent')\n",
    "fig,ax = plt.subplots(figsize=(12,7))\n",
    "sns.barplot(y=[0.3,0.7], x = ['success','failure'],)"
   ]
  },
  {
   "cell_type": "markdown",
   "id": "fe2b37e6",
   "metadata": {},
   "source": [
    "## Binomial Distribution"
   ]
  },
  {
   "cell_type": "code",
   "execution_count": null,
   "id": "3e99f71e",
   "metadata": {},
   "outputs": [],
   "source": [
    "import numpy as np\n",
    "import seaborn as sns\n",
    "sns.set(style=\"darkgrid\", palette=\"muted\")\n",
    "fig,ax = plt.subplots(figsize=(15,8))\n",
    "binomial = np.random.binomial(20,0.5,1000)\n",
    "sns.countplot(binomial)"
   ]
  },
  {
   "cell_type": "markdown",
   "id": "cf6efbfe",
   "metadata": {},
   "source": [
    "## Poisson Distribution"
   ]
  },
  {
   "cell_type": "code",
   "execution_count": null,
   "id": "16431b54",
   "metadata": {},
   "outputs": [],
   "source": [
    "from scipy.stats import poisson\n",
    "sns.set(style=\"darkgrid\", palette=\"muted\")\n",
    "res = poisson.rvs(mu=3, size=200)\n",
    "fig,ax = plt.subplots(figsize=(14,7))\n",
    "plt.hist(x=res,)\n",
    "plt.show()"
   ]
  },
  {
   "cell_type": "code",
   "execution_count": null,
   "id": "6a5c5972",
   "metadata": {},
   "outputs": [],
   "source": []
  },
  {
   "cell_type": "code",
   "execution_count": null,
   "id": "4136d784",
   "metadata": {},
   "outputs": [],
   "source": []
  },
  {
   "cell_type": "code",
   "execution_count": null,
   "id": "ba4fc561",
   "metadata": {},
   "outputs": [],
   "source": []
  },
  {
   "cell_type": "code",
   "execution_count": null,
   "id": "df743c99",
   "metadata": {},
   "outputs": [],
   "source": []
  }
 ],
 "metadata": {
  "kernelspec": {
   "display_name": "Python 3 (ipykernel)",
   "language": "python",
   "name": "python3"
  },
  "language_info": {
   "codemirror_mode": {
    "name": "ipython",
    "version": 3
   },
   "file_extension": ".py",
   "mimetype": "text/x-python",
   "name": "python",
   "nbconvert_exporter": "python",
   "pygments_lexer": "ipython3",
   "version": "3.9.12"
  }
 },
 "nbformat": 4,
 "nbformat_minor": 5
}
