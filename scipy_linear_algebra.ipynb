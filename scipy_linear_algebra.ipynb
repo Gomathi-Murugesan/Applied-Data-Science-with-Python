{
 "cells": [
  {
   "cell_type": "markdown",
   "id": "33f7762f",
   "metadata": {},
   "source": [
    "# Scipy - Linear algebra"
   ]
  },
  {
   "cell_type": "code",
   "execution_count": 42,
   "id": "aa9dda3a",
   "metadata": {},
   "outputs": [],
   "source": [
    "import numpy as np\n",
    "from scipy import linalg"
   ]
  },
  {
   "cell_type": "markdown",
   "id": "f18d43eb",
   "metadata": {},
   "source": [
    "## problem statement"
   ]
  },
  {
   "cell_type": "markdown",
   "id": "af22cc76",
   "metadata": {},
   "source": [
    "- Test has 30 questions for total of 150 marks\n",
    "- There are x - number of true or false questions\n",
    "- there are y - number of multiple choice questions\n",
    "- x + y = 30\n",
    "- 4x + 9y = 150\n",
    "- the marks for x question is 4, y question is 9\n",
    "- the problem is to find the x and y \n",
    "- solve the linear algebra equations using solve method of linalg package of scipy"
   ]
  },
  {
   "cell_type": "code",
   "execution_count": 43,
   "id": "c3f77bca",
   "metadata": {},
   "outputs": [],
   "source": [
    "question_variables = np.array([[1,1],[4,9]])\n",
    "question_values = np.array([30,150])"
   ]
  },
  {
   "cell_type": "code",
   "execution_count": 44,
   "id": "0b2fcaa8",
   "metadata": {},
   "outputs": [
    {
     "data": {
      "text/plain": [
       "array([[1, 1],\n",
       "       [4, 9]])"
      ]
     },
     "execution_count": 44,
     "metadata": {},
     "output_type": "execute_result"
    }
   ],
   "source": [
    "question_variables"
   ]
  },
  {
   "cell_type": "code",
   "execution_count": 45,
   "id": "9355cb8f",
   "metadata": {},
   "outputs": [
    {
     "data": {
      "text/plain": [
       "array([ 30, 150])"
      ]
     },
     "execution_count": 45,
     "metadata": {},
     "output_type": "execute_result"
    }
   ],
   "source": [
    "question_values"
   ]
  },
  {
   "cell_type": "code",
   "execution_count": 48,
   "id": "fbe80417",
   "metadata": {},
   "outputs": [
    {
     "data": {
      "text/plain": [
       "array([24.,  6.])"
      ]
     },
     "execution_count": 48,
     "metadata": {},
     "output_type": "execute_result"
    }
   ],
   "source": [
    "linalg.solve(question_variables,question_values)"
   ]
  },
  {
   "cell_type": "markdown",
   "id": "378ee912",
   "metadata": {},
   "source": [
    "- x = number of true/false questions are 24\n",
    "- y = number of multiple choice questions are 6"
   ]
  },
  {
   "cell_type": "code",
   "execution_count": null,
   "id": "8347f4aa",
   "metadata": {},
   "outputs": [],
   "source": []
  },
  {
   "cell_type": "code",
   "execution_count": null,
   "id": "2a21a4e8",
   "metadata": {},
   "outputs": [],
   "source": []
  },
  {
   "cell_type": "code",
   "execution_count": null,
   "id": "8077e8f8",
   "metadata": {},
   "outputs": [],
   "source": []
  }
 ],
 "metadata": {
  "kernelspec": {
   "display_name": "Python 3 (ipykernel)",
   "language": "python",
   "name": "python3"
  },
  "language_info": {
   "codemirror_mode": {
    "name": "ipython",
    "version": 3
   },
   "file_extension": ".py",
   "mimetype": "text/x-python",
   "name": "python",
   "nbconvert_exporter": "python",
   "pygments_lexer": "ipython3",
   "version": "3.9.12"
  }
 },
 "nbformat": 4,
 "nbformat_minor": 5
}
